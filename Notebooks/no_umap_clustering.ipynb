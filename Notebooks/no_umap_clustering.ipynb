{
 "cells": [
  {
   "cell_type": "markdown",
   "id": "bcdb0c77",
   "metadata": {},
   "source": [
    "Notebook to further evaluate the results of a HDBSCAN clustering output, but more specifically the clustering that doesn't make use of UMAP dimensionality reduction. \n",
    "\n",
    "This notebook is meant to be utilised to build better visualisations to understand how the data is being clustered, understand quality evaluation metrics better etc."
   ]
  },
  {
   "cell_type": "markdown",
   "id": "4702cae8",
   "metadata": {},
   "source": []
  },
  {
   "cell_type": "markdown",
   "id": "97fe43b8",
   "metadata": {},
   "source": []
  }
 ],
 "metadata": {
  "language_info": {
   "name": "python"
  }
 },
 "nbformat": 4,
 "nbformat_minor": 5
}
