{
 "cells": [
  {
   "cell_type": "markdown",
   "id": "472433b1",
   "metadata": {},
   "source": [
    "CODE FOR PLAYING AROUND WITH THE SYNTHETIC KAGGLE DATA - \"Startup Growth & Funding Trends\""
   ]
  },
  {
   "cell_type": "markdown",
   "id": "6c768217",
   "metadata": {},
   "source": [
    "Code Block #1 - API call from Kaggle for relevant data into a dataframe + needed imports"
   ]
  },
  {
   "cell_type": "code",
   "execution_count": 19,
   "id": "507b0f85",
   "metadata": {},
   "outputs": [
    {
     "name": "stdout",
     "output_type": "stream",
     "text": [
      "Data loaded successfully!\n",
      "  Startup Name Industry  Funding Rounds  Funding Amount (M USD)  \\\n",
      "0    Startup_1      IoT               1                  101.09   \n",
      "1    Startup_2   EdTech               1                  247.62   \n",
      "2    Startup_3   EdTech               1                  109.24   \n",
      "3    Startup_4   Gaming               5                   10.75   \n",
      "4    Startup_5      IoT               4                  249.28   \n",
      "\n",
      "   Valuation (M USD)  Revenue (M USD)  Employees  Market Share (%)  \\\n",
      "0             844.75            67.87       1468              5.20   \n",
      "1            3310.83            75.65       3280              8.10   \n",
      "2            1059.37            84.21       4933              2.61   \n",
      "3             101.90            47.08       1059              2.53   \n",
      "4             850.11            50.25       1905              4.09   \n",
      "\n",
      "   Profitable  Year Founded         Region Exit Status  \n",
      "0           0          2006         Europe     Private  \n",
      "1           1          2003  South America     Private  \n",
      "2           1          1995  South America     Private  \n",
      "3           0          2003  South America     Private  \n",
      "4           0          1997         Europe    Acquired  \n"
     ]
    }
   ],
   "source": [
    "#Producing the API Call from Kaggle\n",
    "import pandas as pd\n",
    "import matplotlib.pyplot as plt\n",
    "import seaborn as sns   \n",
    "import numpy as np  \n",
    "import kagglehub\n",
    "import os\n",
    "\n",
    "# Download latest version\n",
    "path = kagglehub.dataset_download(\"samayashar/startup-growth-and-funding-trends\")\n",
    "#print(\"Path to dataset files:\", path)\n",
    "\n",
    "# Assuming the dataset contains a CSV file\n",
    "import os\n",
    "\n",
    "# Get the path to the first CSV file in the downloaded dataset\n",
    "csv_files = [f for f in os.listdir(path) if f.endswith('.csv')]\n",
    "if csv_files: #Key here -- if loaded successfully, df name is data\n",
    "    csv_path = os.path.join(path, csv_files[0])\n",
    "    # Load the CSV file into a pandas DataFrame\n",
    "    data = pd.read_csv(csv_path)\n",
    "    print(\"Data loaded successfully!\") \n",
    "else:\n",
    "    print(\"No CSV files found in the dataset.\")\n",
    "\n",
    "print(data.head()) #Prints the first 5 rows of the data"
   ]
  },
  {
   "cell_type": "markdown",
   "id": "ed3501aa",
   "metadata": {},
   "source": [
    "Code Block #2 - Data Cleaning and Exploratory Data Analysis"
   ]
  },
  {
   "cell_type": "code",
   "execution_count": 23,
   "id": "4b65ef5c",
   "metadata": {},
   "outputs": [],
   "source": [
    "#Checking the Data and Cleaning where needed\n",
    "from Source_Code_Package.utils.EDA_functions import nan_checker\n",
    "\n",
    "nan_checker(data) #Check for NaN values in the data\n"
   ]
  },
  {
   "cell_type": "code",
   "execution_count": null,
   "id": "81701291",
   "metadata": {},
   "outputs": [],
   "source": []
  }
 ],
 "metadata": {
  "kernelspec": {
   "display_name": "Python 3",
   "language": "python",
   "name": "python3"
  },
  "language_info": {
   "codemirror_mode": {
    "name": "ipython",
    "version": 3
   },
   "file_extension": ".py",
   "mimetype": "text/x-python",
   "name": "python",
   "nbconvert_exporter": "python",
   "pygments_lexer": "ipython3",
   "version": "3.12.6"
  }
 },
 "nbformat": 4,
 "nbformat_minor": 5
}
